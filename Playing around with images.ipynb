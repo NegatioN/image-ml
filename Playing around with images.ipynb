{
 "cells": [
  {
   "cell_type": "code",
   "execution_count": null,
   "metadata": {
    "collapsed": false
   },
   "outputs": [],
   "source": [
    "import matplotlib as mp\n",
    "from skimage import measure\n",
    "import matplotlib.image as mpimg\n",
    "import numpy as np # linear algebra\n",
    "import pandas as pd # data processing, CSV file I/O (e.g. pd.read_csv)\n",
    "import matplotlib.pyplot as plt  \n",
    "import matplotlib.patches as mpatches\n",
    "\n",
    "%matplotlib inline\n",
    "from pylab import rcParams\n",
    "rcParams['figure.figsize'] = (10, 10)"
   ]
  },
  {
   "cell_type": "code",
   "execution_count": null,
   "metadata": {
    "collapsed": false
   },
   "outputs": [],
   "source": [
    "img = mpimg.imread('output/gallery/21.jpg')\n",
    "plt.imshow(img, cmap='Set3')\n",
    "\n",
    "import scipy.ndimage as ndi\n",
    "from skimage.color import rgb2gray\n",
    "gray_img = rgb2gray(img) # if you're handling an rgb-image you need to strip the third dimension for many methods\n",
    "cy, cx = ndi.center_of_mass(gray_img)\n",
    "\n",
    "plt.scatter(cx, cy)\n",
    "plt.show()"
   ]
  },
  {
   "cell_type": "code",
   "execution_count": null,
   "metadata": {
    "collapsed": false
   },
   "outputs": [],
   "source": [
    "from skimage.feature import hog\n",
    "from skimage import data, color, exposure\n",
    "\n",
    "\n",
    "fd, hog_image = hog(gray_img, orientations=8, pixels_per_cell=(16, 16), cells_per_block=(1, 1), visualise=True)\n",
    "#fig, (ax1, ax2) = plt.subplots(1, 2, figsize=(8, 4), sharex=True, sharey=True)\n",
    "\n",
    "# Rescale histogram for better display\n",
    "hog_image_rescaled = exposure.rescale_intensity(hog_image, in_range=(0, 0.02))\n",
    "\n",
    "plt.imshow(hog_image_rescaled, cmap=plt.cm.gray )\n",
    "plt.show()"
   ]
  },
  {
   "cell_type": "code",
   "execution_count": null,
   "metadata": {
    "collapsed": false
   },
   "outputs": [],
   "source": [
    "from skimage.feature import canny\n",
    "# Compute the Canny filter for two values of sigma\n",
    "edges1 = canny(gray_img, sigma=1.2)\n",
    "#edges2 = canny(gray_img, sigma=3)\n",
    "\n",
    "plt.imshow(edges1, cmap=plt.cm.gray)\n",
    "# display results\n",
    "#fig, (ax1, ax2, ax3) = plt.subplots(nrows=1, ncols=3, figsize=(8, 3), sharex=True, sharey=True)\n",
    "\n",
    "#ax1.imshow(gray_img, cmap=plt.cm.jet)\n",
    "#ax1.axis('off')\n",
    "\n",
    "#ax2.imshow(edges1, cmap=plt.cm.gray)\n",
    "#ax2.axis('off')\n",
    "\n",
    "#ax3.imshow(edges2, cmap=plt.cm.gray)\n",
    "#ax3.axis('off')\n",
    "\n",
    "plt.show()"
   ]
  },
  {
   "cell_type": "code",
   "execution_count": null,
   "metadata": {
    "collapsed": true
   },
   "outputs": [],
   "source": []
  }
 ],
 "metadata": {
  "anaconda-cloud": {},
  "kernelspec": {
   "display_name": "Python [conda root]",
   "language": "python",
   "name": "conda-root-py"
  },
  "language_info": {
   "codemirror_mode": {
    "name": "ipython",
    "version": 3
   },
   "file_extension": ".py",
   "mimetype": "text/x-python",
   "name": "python",
   "nbconvert_exporter": "python",
   "pygments_lexer": "ipython3",
   "version": "3.5.2"
  }
 },
 "nbformat": 4,
 "nbformat_minor": 0
}
